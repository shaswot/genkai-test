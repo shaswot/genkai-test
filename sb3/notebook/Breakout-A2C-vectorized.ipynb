{
 "cells": [
  {
   "cell_type": "code",
   "execution_count": 1,
   "id": "30514aff-7b9a-4013-989a-77fbc8b918ce",
   "metadata": {},
   "outputs": [],
   "source": [
    "exp_no = 0"
   ]
  },
  {
   "cell_type": "code",
   "execution_count": 2,
   "id": "cfa308df-db21-4a8e-9ecf-e153a0fc085e",
   "metadata": {},
   "outputs": [],
   "source": [
    "import os\n",
    "import sys\n",
    "import git\n",
    "import pathlib"
   ]
  },
  {
   "cell_type": "code",
   "execution_count": 3,
   "id": "a1c44e43-3c4b-42cd-ba9b-d8b1cd1f3e4f",
   "metadata": {},
   "outputs": [
    {
     "name": "stdout",
     "output_type": "stream",
     "text": [
      "Project Root Directory: /repos/genkai-test\n"
     ]
    }
   ],
   "source": [
    "os.environ['TF_CPP_MIN_LOG_LEVEL'] = '3' \n",
    "\n",
    "PROJ_ROOT_PATH = pathlib.Path(git.Repo('.', search_parent_directories=True).working_tree_dir)\n",
    "PROJ_ROOT =  str(PROJ_ROOT_PATH)\n",
    "if PROJ_ROOT not in sys.path:\n",
    "    sys.path.append(PROJ_ROOT)\n",
    "\n",
    "print(f\"Project Root Directory: {PROJ_ROOT}\")"
   ]
  },
  {
   "cell_type": "code",
   "execution_count": 4,
   "id": "24896b68-f1f7-4bf4-b304-6f3f94c8730f",
   "metadata": {},
   "outputs": [],
   "source": [
    "import numpy as np\n",
    "import matplotlib.pyplot as plt\n",
    "\n",
    "import gymnasium as gym\n",
    "from stable_baselines3.common.env_util import make_atari_env\n",
    "from stable_baselines3.common.vec_env import VecFrameStack\n",
    "from stable_baselines3 import PPO, A2C, DQN\n",
    "from stable_baselines3.common.results_plotter import load_results, ts2xy"
   ]
  },
  {
   "cell_type": "code",
   "execution_count": 5,
   "id": "9c4f5261-e81b-4f92-93b7-78537f30ac43",
   "metadata": {},
   "outputs": [],
   "source": [
    "ALGO = \"A2C\""
   ]
  },
  {
   "cell_type": "code",
   "execution_count": 6,
   "id": "20fd0135-7b43-4744-9506-330e62e18fc9",
   "metadata": {},
   "outputs": [],
   "source": [
    "env_id = \"BreakoutNoFrameskip-v4\"\n",
    "exp_tag = \"vanilla\"\n",
    "exp_name = f\"{env_id}--{ALGO}--{exp_tag}\""
   ]
  },
  {
   "cell_type": "code",
   "execution_count": 7,
   "id": "ea676cd3-097d-428c-964c-345b21863559",
   "metadata": {},
   "outputs": [],
   "source": [
    "logfolder_root = pathlib.Path(PROJ_ROOT_PATH / \"sb3\" / \"notebook\" / \"logging\")\n",
    "\n",
    "# Directory to save all training statistics\n",
    "log_dir = pathlib.Path(logfolder_root / exp_name)\n",
    "os.makedirs(log_dir, exist_ok=True)\n",
    "\n",
    "# Directory to save gif animations\n",
    "gif_dir = pathlib.Path(log_dir / \"gifs\" / exp_name)\n",
    "os.makedirs(gif_dir, exist_ok=True)\n",
    "\n",
    "# Directory to save models\n",
    "models_dir = pathlib.Path(PROJ_ROOT_PATH / \"models\" / exp_name)\n",
    "os.makedirs(models_dir, exist_ok=True)"
   ]
  },
  {
   "cell_type": "code",
   "execution_count": 8,
   "id": "43c3c266-7ba2-4b32-a6da-2c8e3b1f3b1b",
   "metadata": {},
   "outputs": [],
   "source": [
    "# The different number of processes that will be used\n",
    "SEED = 0\n",
    "\n",
    "NUM_ENVS = 32\n",
    "TRAIN_STEPS = 1E6\n",
    "N_EVAL_EPISODES = 100"
   ]
  },
  {
   "cell_type": "code",
   "execution_count": 9,
   "id": "966bb17c-15fd-4323-a05d-5184a67b2228",
   "metadata": {},
   "outputs": [
    {
     "name": "stdout",
     "output_type": "stream",
     "text": [
      "-------\n",
      "RUN: 0\n"
     ]
    },
    {
     "name": "stderr",
     "output_type": "stream",
     "text": [
      "A.L.E: Arcade Learning Environment (version 0.8.1+53f58b7)\n",
      "[Powered by Stella]\n"
     ]
    },
    {
     "data": {
      "application/vnd.jupyter.widget-view+json": {
       "model_id": "67bee3e902c24931adbeedbdd4486b61",
       "version_major": 2,
       "version_minor": 0
      },
      "text/plain": [
       "Output()"
      ]
     },
     "metadata": {},
     "output_type": "display_data"
    },
    {
     "data": {
      "text/html": [
       "<pre style=\"white-space:pre;overflow-x:auto;line-height:normal;font-family:Menlo,'DejaVu Sans Mono',consolas,'Courier New',monospace\"></pre>\n"
      ],
      "text/plain": []
     },
     "metadata": {},
     "output_type": "display_data"
    },
    {
     "data": {
      "text/html": [
       "<pre style=\"white-space:pre;overflow-x:auto;line-height:normal;font-family:Menlo,'DejaVu Sans Mono',consolas,'Courier New',monospace\">\n",
       "</pre>\n"
      ],
      "text/plain": [
       "\n"
      ]
     },
     "metadata": {},
     "output_type": "display_data"
    }
   ],
   "source": [
    "for experiment in [exp_no]:\n",
    "    print(\"-------\")\n",
    "    print(f\"RUN: {experiment}\")\n",
    "    # Log directory for each run of the experiment\n",
    "    run_log_dir = f\"{log_dir}/run_{experiment}\"\n",
    "    \n",
    "    # Make vector environment\n",
    "    env = make_atari_env(env_id,\n",
    "                         n_envs=NUM_ENVS,\n",
    "                         monitor_dir=run_log_dir,\n",
    "                         seed=SEED+experiment)\n",
    "    \n",
    "    # Frame-stacking with 4 frames\n",
    "    env = VecFrameStack(env, n_stack=4)\n",
    "\n",
    "    # Create RL model\n",
    "    model = eval(ALGO)(\"CnnPolicy\", env, verbose=0)\n",
    "\n",
    "    # Train the agent\n",
    "    model.learn(total_timesteps=TRAIN_STEPS, \n",
    "                progress_bar=True)\n",
    "\n",
    "    # Save the final agent\n",
    "    model.save(f\"{models_dir}/{exp_name}-run_{experiment}\")"
   ]
  },
  {
   "cell_type": "code",
   "execution_count": 10,
   "id": "d40c1308-b72c-451b-8506-c9574f7e95fe",
   "metadata": {},
   "outputs": [],
   "source": [
    "def moving_average(values, window):\n",
    "    \"\"\"\n",
    "    Smooth values by doing a moving average\n",
    "    :param values: (numpy array)\n",
    "    :param window: (int)\n",
    "    :return: (numpy array)\n",
    "    \"\"\"\n",
    "    weights = np.repeat(1.0, window) / window\n",
    "    return np.convolve(values, weights, \"valid\")"
   ]
  },
  {
   "cell_type": "code",
   "execution_count": 11,
   "id": "6e458e36-f2e2-451c-8858-fdf0d8e63196",
   "metadata": {},
   "outputs": [
    {
     "data": {
      "image/png": "[encoded data removed]",
      "text/plain": [
       "<Figure size 640x480 with 1 Axes>"
      ]
     },
     "metadata": {},
     "output_type": "display_data"
    }
   ],
   "source": [
    "# Visualizing Results\n",
    "WINDOW = 50\n",
    "\n",
    "fig = plt.figure()\n",
    "plt.xlabel(\"Number of Timesteps\")\n",
    "plt.ylabel(\"Rewards\")\n",
    "plt.title(exp_name + f\" (moving avg, window={WINDOW})\")\n",
    "\n",
    "for experiment in [exp_no]:\n",
    "    run_log_dir = f\"{log_dir}/run_{experiment}\"\n",
    "    x, y = ts2xy(load_results(run_log_dir), \"timesteps\")\n",
    "    y = moving_average(y, window=WINDOW)\n",
    "    # Truncate x\n",
    "    x = x[len(x) - len(y) :]    \n",
    "    plt.plot(x, y)  \n",
    "plt.show()   "
   ]
  },
  {
   "cell_type": "code",
   "execution_count": 12,
   "id": "ed307fb0-3fcc-4b68-8acb-80283de4f0e0",
   "metadata": {},
   "outputs": [
    {
     "name": "stdout",
     "output_type": "stream",
     "text": [
      "Wrapping the env in a VecTransposeImage.\n"
     ]
    }
   ],
   "source": [
    "# Evaluate Model\n",
    "from stable_baselines3.common.evaluation import evaluate_policy\n",
    "N_EVAL_EPISODES = 100\n",
    "\n",
    "trained_model = eval(ALGO).load(f\"{models_dir}/{exp_name}-run_{experiment}\", verbose=1)\n",
    "eval_env = make_atari_env(env_id,\n",
    "                         n_envs=NUM_ENVS, \n",
    "                          seed=SEED+experiment+7)\n",
    "eval_env = VecFrameStack(eval_env, n_stack=4)\n",
    "trained_model.set_env(eval_env)"
   ]
  },
  {
   "cell_type": "code",
   "execution_count": 13,
   "id": "bb3dcc6a-7f78-4ece-9b82-82182fdd3e62",
   "metadata": {},
   "outputs": [],
   "source": [
    "mean_rew, mean_std=evaluate_policy(trained_model,\n",
    "                                   trained_model.env, \n",
    "                                   n_eval_episodes=N_EVAL_EPISODES)"
   ]
  },
  {
   "cell_type": "code",
   "execution_count": 14,
   "id": "2e66afc4-da53-4bc8-9e53-522415dfeb0f",
   "metadata": {},
   "outputs": [
    {
     "name": "stdout",
     "output_type": "stream",
     "text": [
      "Reward: 16.07 ± 9.99\n"
     ]
    }
   ],
   "source": [
    "print(f\"Reward: {mean_rew:.2f} \\u00B1 {mean_std:.2f}\")"
   ]
  },
  {
   "cell_type": "code",
   "execution_count": null,
   "id": "392e5a23-f1cd-4160-8ff7-ac78df52d9d9",
   "metadata": {},
   "outputs": [],
   "source": []
  }
 ],
 "metadata": {
  "kernelspec": {
   "display_name": "Python 3 (ipykernel)",
   "language": "python",
   "name": "python3"
  },
  "language_info": {
   "codemirror_mode": {
    "name": "ipython",
    "version": 3
   },
   "file_extension": ".py",
   "mimetype": "text/x-python",
   "name": "python",
   "nbconvert_exporter": "python",
   "pygments_lexer": "ipython3",
   "version": "3.10.12"
  }
 },
 "nbformat": 4,
 "nbformat_minor": 5
}
