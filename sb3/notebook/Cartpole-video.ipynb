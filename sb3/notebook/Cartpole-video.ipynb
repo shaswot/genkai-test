{
 "cells": [
  {
   "cell_type": "code",
   "execution_count": 1,
   "id": "e3bb2afd-4467-406f-8b21-43985d29919e",
   "metadata": {},
   "outputs": [],
   "source": [
    "import gymnasium as gym\n",
    "from stable_baselines3.common.vec_env import VecVideoRecorder, DummyVecEnv"
   ]
  },
  {
   "cell_type": "code",
   "execution_count": 2,
   "id": "e1e2ad48-0a99-4d47-94c8-8ba143e4c4a0",
   "metadata": {},
   "outputs": [],
   "source": [
    "env_id = \"CartPole-v1\"\n",
    "video_folder = \"logfiles/videos/\"\n",
    "video_length = 100"
   ]
  },
  {
   "cell_type": "code",
   "execution_count": 3,
   "id": "d0a12399-da97-4fdd-9b43-11768f5c43b9",
   "metadata": {},
   "outputs": [],
   "source": [
    "vec_env = DummyVecEnv([lambda: gym.make(env_id, render_mode=\"rgb_array\")])"
   ]
  },
  {
   "cell_type": "code",
   "execution_count": 4,
   "id": "bd7d6cf9-4a6e-4f13-bd92-90c70ea25c9d",
   "metadata": {},
   "outputs": [
    {
     "name": "stderr",
     "output_type": "stream",
     "text": [
      "error: XDG_RUNTIME_DIR not set in the environment.\n"
     ]
    },
    {
     "data": {
      "text/plain": [
       "array([[-0.00334807, -0.0091443 , -0.0162376 ,  0.01579988]],\n",
       "      dtype=float32)"
      ]
     },
     "execution_count": 4,
     "metadata": {},
     "output_type": "execute_result"
    }
   ],
   "source": [
    "obs = vec_env.reset()\n",
    "\n",
    "# Record the video starting at the first step\n",
    "vec_env = VecVideoRecorder(vec_env, \n",
    "                           video_folder,\n",
    "                           record_video_trigger=lambda x: x == 0, \n",
    "                           video_length=video_length,\n",
    "                           name_prefix=f\"random-agent-{env_id}\")\n",
    "\n",
    "vec_env.reset()"
   ]
  },
  {
   "cell_type": "code",
   "execution_count": 5,
   "id": "1afb9b25-1f18-43ea-a141-4c3d60051c0b",
   "metadata": {},
   "outputs": [
    {
     "name": "stdout",
     "output_type": "stream",
     "text": [
      "Saving video to /repos/genkai-test/sb3/notebook/logfiles/videos/random-agent-CartPole-v1-step-0-to-step-100.mp4\n",
      "Moviepy - Building video /repos/genkai-test/sb3/notebook/logfiles/videos/random-agent-CartPole-v1-step-0-to-step-100.mp4.\n",
      "Moviepy - Writing video /repos/genkai-test/sb3/notebook/logfiles/videos/random-agent-CartPole-v1-step-0-to-step-100.mp4\n",
      "\n"
     ]
    },
    {
     "name": "stderr",
     "output_type": "stream",
     "text": [
      "                                                                                                                                                "
     ]
    },
    {
     "name": "stdout",
     "output_type": "stream",
     "text": [
      "Moviepy - Done !\n",
      "Moviepy - video ready /repos/genkai-test/sb3/notebook/logfiles/videos/random-agent-CartPole-v1-step-0-to-step-100.mp4\n"
     ]
    },
    {
     "name": "stderr",
     "output_type": "stream",
     "text": [
      "\r"
     ]
    }
   ],
   "source": [
    "for _ in range(video_length + 1):\n",
    "  action = [vec_env.action_space.sample()]\n",
    "  obs, _, _, _ = vec_env.step(action)"
   ]
  },
  {
   "cell_type": "code",
   "execution_count": 6,
   "id": "0de26908-9049-4980-824c-fe06f95992af",
   "metadata": {},
   "outputs": [],
   "source": [
    "# Save the video\n",
    "vec_env.close()"
   ]
  },
  {
   "cell_type": "code",
   "execution_count": 10,
   "id": "8669a5a6-ac2d-4beb-a2bd-d04158d05c28",
   "metadata": {},
   "outputs": [
    {
     "data": {
      "text/html": [
       "<video src=\"logfiles/videos//random-agent-CartPole-v1-step-0-to-step-100.mp4\" controls  >\n",
       "      Your browser does not support the <code>video</code> element.\n",
       "    </video>"
      ],
      "text/plain": [
       "<IPython.core.display.Video object>"
      ]
     },
     "execution_count": 10,
     "metadata": {},
     "output_type": "execute_result"
    }
   ],
   "source": [
    "from IPython.display import Video\n",
    "\n",
    "Video(f\"{video_folder}/random-agent-CartPole-v1-step-0-to-step-100.mp4\")"
   ]
  }
 ],
 "metadata": {
  "kernelspec": {
   "display_name": "Python 3 (ipykernel)",
   "language": "python",
   "name": "python3"
  },
  "language_info": {
   "codemirror_mode": {
    "name": "ipython",
    "version": 3
   },
   "file_extension": ".py",
   "mimetype": "text/x-python",
   "name": "python",
   "nbconvert_exporter": "python",
   "pygments_lexer": "ipython3",
   "version": "3.10.12"
  }
 },
 "nbformat": 4,
 "nbformat_minor": 5
}
