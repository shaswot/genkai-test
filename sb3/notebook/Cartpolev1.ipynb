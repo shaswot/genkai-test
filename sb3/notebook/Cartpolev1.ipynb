{
 "cells": [
  {
   "cell_type": "code",
   "execution_count": 7,
   "id": "389cc069-b38c-45c4-ae7c-be81e5afc497",
   "metadata": {},
   "outputs": [
    {
     "name": "stdout",
     "output_type": "stream",
     "text": [
      "Using cuda device\n",
      "Logging to runs/PPO_1\n"
     ]
    },
    {
     "name": "stderr",
     "output_type": "stream",
     "text": [
      "error: XDG_RUNTIME_DIR not set in the environment.\n"
     ]
    },
    {
     "name": "stdout",
     "output_type": "stream",
     "text": [
      "Saving video to /repos/vids/rl-video-step-0-to-step-200.mp4\n",
      "Moviepy - Building video /repos/vids/rl-video-step-0-to-step-200.mp4.\n",
      "Moviepy - Writing video /repos/vids/rl-video-step-0-to-step-200.mp4\n",
      "\n"
     ]
    },
    {
     "name": "stderr",
     "output_type": "stream",
     "text": [
      "                                                                                                                                                \r"
     ]
    },
    {
     "name": "stdout",
     "output_type": "stream",
     "text": [
      "Moviepy - Done !\n",
      "Moviepy - video ready /repos/vids/rl-video-step-0-to-step-200.mp4\n",
      "---------------------------------\n",
      "| rollout/           |          |\n",
      "|    ep_len_mean     | 21.2     |\n",
      "|    ep_rew_mean     | 21.2     |\n",
      "| time/              |          |\n",
      "|    fps             | 1082     |\n",
      "|    iterations      | 1        |\n",
      "|    time_elapsed    | 1        |\n",
      "|    total_timesteps | 2048     |\n",
      "---------------------------------\n",
      "Saving video to /repos/vids/rl-video-step-2000-to-step-2200.mp4\n",
      "Moviepy - Building video /repos/vids/rl-video-step-2000-to-step-2200.mp4.\n",
      "Moviepy - Writing video /repos/vids/rl-video-step-2000-to-step-2200.mp4\n",
      "\n"
     ]
    },
    {
     "name": "stderr",
     "output_type": "stream",
     "text": [
      "                                                                                                                                                \r"
     ]
    },
    {
     "name": "stdout",
     "output_type": "stream",
     "text": [
      "Moviepy - Done !\n",
      "Moviepy - video ready /repos/vids/rl-video-step-2000-to-step-2200.mp4\n",
      "------------------------------------------\n",
      "| rollout/                |              |\n",
      "|    ep_len_mean          | 26.6         |\n",
      "|    ep_rew_mean          | 26.6         |\n",
      "| time/                   |              |\n",
      "|    fps                  | 970          |\n",
      "|    iterations           | 2            |\n",
      "|    time_elapsed         | 4            |\n",
      "|    total_timesteps      | 4096         |\n",
      "| train/                  |              |\n",
      "|    approx_kl            | 0.009297915  |\n",
      "|    clip_fraction        | 0.126        |\n",
      "|    clip_range           | 0.2          |\n",
      "|    entropy_loss         | -0.685       |\n",
      "|    explained_variance   | 0.0062959194 |\n",
      "|    learning_rate        | 0.0003       |\n",
      "|    loss                 | 7.4          |\n",
      "|    n_updates            | 10           |\n",
      "|    policy_gradient_loss | -0.0207      |\n",
      "|    value_loss           | 49.7         |\n",
      "------------------------------------------\n",
      "Saving video to /repos/vids/rl-video-step-4000-to-step-4200.mp4\n",
      "Moviepy - Building video /repos/vids/rl-video-step-4000-to-step-4200.mp4.\n",
      "Moviepy - Writing video /repos/vids/rl-video-step-4000-to-step-4200.mp4\n",
      "\n"
     ]
    },
    {
     "name": "stderr",
     "output_type": "stream",
     "text": [
      "                                                                                                                                                \r"
     ]
    },
    {
     "name": "stdout",
     "output_type": "stream",
     "text": [
      "Moviepy - Done !\n",
      "Moviepy - video ready /repos/vids/rl-video-step-4000-to-step-4200.mp4\n",
      "-----------------------------------------\n",
      "| rollout/                |             |\n",
      "|    ep_len_mean          | 32.6        |\n",
      "|    ep_rew_mean          | 32.6        |\n",
      "| time/                   |             |\n",
      "|    fps                  | 959         |\n",
      "|    iterations           | 3           |\n",
      "|    time_elapsed         | 6           |\n",
      "|    total_timesteps      | 6144        |\n",
      "| train/                  |             |\n",
      "|    approx_kl            | 0.010709692 |\n",
      "|    clip_fraction        | 0.0853      |\n",
      "|    clip_range           | 0.2         |\n",
      "|    entropy_loss         | -0.668      |\n",
      "|    explained_variance   | 0.08780587  |\n",
      "|    learning_rate        | 0.0003      |\n",
      "|    loss                 | 10.3        |\n",
      "|    n_updates            | 20          |\n",
      "|    policy_gradient_loss | -0.0216     |\n",
      "|    value_loss           | 35.3        |\n",
      "-----------------------------------------\n",
      "Saving video to /repos/vids/rl-video-step-6000-to-step-6200.mp4\n",
      "Moviepy - Building video /repos/vids/rl-video-step-6000-to-step-6200.mp4.\n",
      "Moviepy - Writing video /repos/vids/rl-video-step-6000-to-step-6200.mp4\n",
      "\n"
     ]
    },
    {
     "name": "stderr",
     "output_type": "stream",
     "text": [
      "                                                                                                                                                \r"
     ]
    },
    {
     "name": "stdout",
     "output_type": "stream",
     "text": [
      "Moviepy - Done !\n",
      "Moviepy - video ready /repos/vids/rl-video-step-6000-to-step-6200.mp4\n",
      "-----------------------------------------\n",
      "| rollout/                |             |\n",
      "|    ep_len_mean          | 45.5        |\n",
      "|    ep_rew_mean          | 45.5        |\n",
      "| time/                   |             |\n",
      "|    fps                  | 951         |\n",
      "|    iterations           | 4           |\n",
      "|    time_elapsed         | 8           |\n",
      "|    total_timesteps      | 8192        |\n",
      "| train/                  |             |\n",
      "|    approx_kl            | 0.007982625 |\n",
      "|    clip_fraction        | 0.11        |\n",
      "|    clip_range           | 0.2         |\n",
      "|    entropy_loss         | -0.634      |\n",
      "|    explained_variance   | 0.24893308  |\n",
      "|    learning_rate        | 0.0003      |\n",
      "|    loss                 | 19.8        |\n",
      "|    n_updates            | 30          |\n",
      "|    policy_gradient_loss | -0.0215     |\n",
      "|    value_loss           | 52.9        |\n",
      "-----------------------------------------\n",
      "Saving video to /repos/vids/rl-video-step-8000-to-step-8200.mp4\n",
      "Moviepy - Building video /repos/vids/rl-video-step-8000-to-step-8200.mp4.\n",
      "Moviepy - Writing video /repos/vids/rl-video-step-8000-to-step-8200.mp4\n",
      "\n"
     ]
    },
    {
     "name": "stderr",
     "output_type": "stream",
     "text": [
      "                                                                                                                                                \r"
     ]
    },
    {
     "name": "stdout",
     "output_type": "stream",
     "text": [
      "Moviepy - Done !\n",
      "Moviepy - video ready /repos/vids/rl-video-step-8000-to-step-8200.mp4\n",
      "Saving video to /repos/vids/rl-video-step-10000-to-step-10200.mp4\n",
      "Moviepy - Building video /repos/vids/rl-video-step-10000-to-step-10200.mp4.\n",
      "Moviepy - Writing video /repos/vids/rl-video-step-10000-to-step-10200.mp4\n",
      "\n"
     ]
    },
    {
     "name": "stderr",
     "output_type": "stream",
     "text": [
      "                                                                                                                                                "
     ]
    },
    {
     "name": "stdout",
     "output_type": "stream",
     "text": [
      "Moviepy - Done !\n",
      "Moviepy - video ready /repos/vids/rl-video-step-10000-to-step-10200.mp4\n",
      "-----------------------------------------\n",
      "| rollout/                |             |\n",
      "|    ep_len_mean          | 60          |\n",
      "|    ep_rew_mean          | 60          |\n",
      "| time/                   |             |\n",
      "|    fps                  | 929         |\n",
      "|    iterations           | 5           |\n",
      "|    time_elapsed         | 11          |\n",
      "|    total_timesteps      | 10240       |\n",
      "| train/                  |             |\n",
      "|    approx_kl            | 0.008150647 |\n",
      "|    clip_fraction        | 0.0699      |\n",
      "|    clip_range           | 0.2         |\n",
      "|    entropy_loss         | -0.612      |\n",
      "|    explained_variance   | 0.3334458   |\n",
      "|    learning_rate        | 0.0003      |\n",
      "|    loss                 | 19.9        |\n",
      "|    n_updates            | 40          |\n",
      "|    policy_gradient_loss | -0.0159     |\n",
      "|    value_loss           | 53.9        |\n",
      "-----------------------------------------\n"
     ]
    },
    {
     "name": "stderr",
     "output_type": "stream",
     "text": [
      "\r"
     ]
    },
    {
     "name": "stdout",
     "output_type": "stream",
     "text": [
      "Saving video to /repos/vids/rl-video-step-12000-to-step-12200.mp4\n",
      "Moviepy - Building video /repos/vids/rl-video-step-12000-to-step-12200.mp4.\n",
      "Moviepy - Writing video /repos/vids/rl-video-step-12000-to-step-12200.mp4\n",
      "\n"
     ]
    },
    {
     "name": "stderr",
     "output_type": "stream",
     "text": [
      "                                                                                                                                                \r"
     ]
    },
    {
     "name": "stdout",
     "output_type": "stream",
     "text": [
      "Moviepy - Done !\n",
      "Moviepy - video ready /repos/vids/rl-video-step-12000-to-step-12200.mp4\n",
      "-----------------------------------------\n",
      "| rollout/                |             |\n",
      "|    ep_len_mean          | 74.3        |\n",
      "|    ep_rew_mean          | 74.3        |\n",
      "| time/                   |             |\n",
      "|    fps                  | 929         |\n",
      "|    iterations           | 6           |\n",
      "|    time_elapsed         | 13          |\n",
      "|    total_timesteps      | 12288       |\n",
      "| train/                  |             |\n",
      "|    approx_kl            | 0.009613031 |\n",
      "|    clip_fraction        | 0.0998      |\n",
      "|    clip_range           | 0.2         |\n",
      "|    entropy_loss         | -0.594      |\n",
      "|    explained_variance   | 0.4630667   |\n",
      "|    learning_rate        | 0.0003      |\n",
      "|    loss                 | 19.1        |\n",
      "|    n_updates            | 50          |\n",
      "|    policy_gradient_loss | -0.0189     |\n",
      "|    value_loss           | 59.4        |\n",
      "-----------------------------------------\n",
      "Saving video to /repos/vids/rl-video-step-14000-to-step-14200.mp4\n",
      "Moviepy - Building video /repos/vids/rl-video-step-14000-to-step-14200.mp4.\n",
      "Moviepy - Writing video /repos/vids/rl-video-step-14000-to-step-14200.mp4\n",
      "\n"
     ]
    },
    {
     "name": "stderr",
     "output_type": "stream",
     "text": [
      "                                                                                                                                                \r"
     ]
    },
    {
     "name": "stdout",
     "output_type": "stream",
     "text": [
      "Moviepy - Done !\n",
      "Moviepy - video ready /repos/vids/rl-video-step-14000-to-step-14200.mp4\n",
      "------------------------------------------\n",
      "| rollout/                |              |\n",
      "|    ep_len_mean          | 92.1         |\n",
      "|    ep_rew_mean          | 92.1         |\n",
      "| time/                   |              |\n",
      "|    fps                  | 933          |\n",
      "|    iterations           | 7            |\n",
      "|    time_elapsed         | 15           |\n",
      "|    total_timesteps      | 14336        |\n",
      "| train/                  |              |\n",
      "|    approx_kl            | 0.0075748353 |\n",
      "|    clip_fraction        | 0.0734       |\n",
      "|    clip_range           | 0.2          |\n",
      "|    entropy_loss         | -0.571       |\n",
      "|    explained_variance   | 0.49848562   |\n",
      "|    learning_rate        | 0.0003       |\n",
      "|    loss                 | 17.5         |\n",
      "|    n_updates            | 60           |\n",
      "|    policy_gradient_loss | -0.0151      |\n",
      "|    value_loss           | 63.9         |\n",
      "------------------------------------------\n",
      "Saving video to /repos/vids/rl-video-step-16000-to-step-16200.mp4\n",
      "Moviepy - Building video /repos/vids/rl-video-step-16000-to-step-16200.mp4.\n",
      "Moviepy - Writing video /repos/vids/rl-video-step-16000-to-step-16200.mp4\n",
      "\n"
     ]
    },
    {
     "name": "stderr",
     "output_type": "stream",
     "text": [
      "                                                                                                                                                \r"
     ]
    },
    {
     "name": "stdout",
     "output_type": "stream",
     "text": [
      "Moviepy - Done !\n",
      "Moviepy - video ready /repos/vids/rl-video-step-16000-to-step-16200.mp4\n",
      "-----------------------------------------\n",
      "| rollout/                |             |\n",
      "|    ep_len_mean          | 109         |\n",
      "|    ep_rew_mean          | 109         |\n",
      "| time/                   |             |\n",
      "|    fps                  | 935         |\n",
      "|    iterations           | 8           |\n",
      "|    time_elapsed         | 17          |\n",
      "|    total_timesteps      | 16384       |\n",
      "| train/                  |             |\n",
      "|    approx_kl            | 0.009813968 |\n",
      "|    clip_fraction        | 0.0625      |\n",
      "|    clip_range           | 0.2         |\n",
      "|    entropy_loss         | -0.574      |\n",
      "|    explained_variance   | 0.4338562   |\n",
      "|    learning_rate        | 0.0003      |\n",
      "|    loss                 | 12.7        |\n",
      "|    n_updates            | 70          |\n",
      "|    policy_gradient_loss | -0.00619    |\n",
      "|    value_loss           | 47.8        |\n",
      "-----------------------------------------\n",
      "Saving video to /repos/vids/rl-video-step-18000-to-step-18200.mp4\n",
      "Moviepy - Building video /repos/vids/rl-video-step-18000-to-step-18200.mp4.\n",
      "Moviepy - Writing video /repos/vids/rl-video-step-18000-to-step-18200.mp4\n",
      "\n"
     ]
    },
    {
     "name": "stderr",
     "output_type": "stream",
     "text": [
      "                                                                                                                                                \r"
     ]
    },
    {
     "name": "stdout",
     "output_type": "stream",
     "text": [
      "Moviepy - Done !\n",
      "Moviepy - video ready /repos/vids/rl-video-step-18000-to-step-18200.mp4\n",
      "------------------------------------------\n",
      "| rollout/                |              |\n",
      "|    ep_len_mean          | 129          |\n",
      "|    ep_rew_mean          | 129          |\n",
      "| time/                   |              |\n",
      "|    fps                  | 937          |\n",
      "|    iterations           | 9            |\n",
      "|    time_elapsed         | 19           |\n",
      "|    total_timesteps      | 18432        |\n",
      "| train/                  |              |\n",
      "|    approx_kl            | 0.0065274974 |\n",
      "|    clip_fraction        | 0.055        |\n",
      "|    clip_range           | 0.2          |\n",
      "|    entropy_loss         | -0.544       |\n",
      "|    explained_variance   | 0.5483978    |\n",
      "|    learning_rate        | 0.0003       |\n",
      "|    loss                 | 12.7         |\n",
      "|    n_updates            | 80           |\n",
      "|    policy_gradient_loss | -0.00919     |\n",
      "|    value_loss           | 53.6         |\n",
      "------------------------------------------\n",
      "Saving video to /repos/vids/rl-video-step-20000-to-step-20200.mp4\n",
      "Moviepy - Building video /repos/vids/rl-video-step-20000-to-step-20200.mp4.\n",
      "Moviepy - Writing video /repos/vids/rl-video-step-20000-to-step-20200.mp4\n",
      "\n"
     ]
    },
    {
     "name": "stderr",
     "output_type": "stream",
     "text": [
      "                                                                                                                                                \r"
     ]
    },
    {
     "name": "stdout",
     "output_type": "stream",
     "text": [
      "Moviepy - Done !\n",
      "Moviepy - video ready /repos/vids/rl-video-step-20000-to-step-20200.mp4\n",
      "-----------------------------------------\n",
      "| rollout/                |             |\n",
      "|    ep_len_mean          | 147         |\n",
      "|    ep_rew_mean          | 147         |\n",
      "| time/                   |             |\n",
      "|    fps                  | 939         |\n",
      "|    iterations           | 10          |\n",
      "|    time_elapsed         | 21          |\n",
      "|    total_timesteps      | 20480       |\n",
      "| train/                  |             |\n",
      "|    approx_kl            | 0.007399456 |\n",
      "|    clip_fraction        | 0.028       |\n",
      "|    clip_range           | 0.2         |\n",
      "|    entropy_loss         | -0.549      |\n",
      "|    explained_variance   | 0.83993566  |\n",
      "|    learning_rate        | 0.0003      |\n",
      "|    loss                 | 1.55        |\n",
      "|    n_updates            | 90          |\n",
      "|    policy_gradient_loss | -0.00117    |\n",
      "|    value_loss           | 18.3        |\n",
      "-----------------------------------------\n",
      "Saving video to /repos/vids/rl-video-step-22000-to-step-22200.mp4\n",
      "Moviepy - Building video /repos/vids/rl-video-step-22000-to-step-22200.mp4.\n",
      "Moviepy - Writing video /repos/vids/rl-video-step-22000-to-step-22200.mp4\n",
      "\n"
     ]
    },
    {
     "name": "stderr",
     "output_type": "stream",
     "text": [
      "                                                                                                                                                \r"
     ]
    },
    {
     "name": "stdout",
     "output_type": "stream",
     "text": [
      "Moviepy - Done !\n",
      "Moviepy - video ready /repos/vids/rl-video-step-22000-to-step-22200.mp4\n",
      "------------------------------------------\n",
      "| rollout/                |              |\n",
      "|    ep_len_mean          | 166          |\n",
      "|    ep_rew_mean          | 166          |\n",
      "| time/                   |              |\n",
      "|    fps                  | 941          |\n",
      "|    iterations           | 11           |\n",
      "|    time_elapsed         | 23           |\n",
      "|    total_timesteps      | 22528        |\n",
      "| train/                  |              |\n",
      "|    approx_kl            | 0.0032793977 |\n",
      "|    clip_fraction        | 0.0179       |\n",
      "|    clip_range           | 0.2          |\n",
      "|    entropy_loss         | -0.542       |\n",
      "|    explained_variance   | 0.017732799  |\n",
      "|    learning_rate        | 0.0003       |\n",
      "|    loss                 | 0.645        |\n",
      "|    n_updates            | 100          |\n",
      "|    policy_gradient_loss | -6.26e-05    |\n",
      "|    value_loss           | 10.6         |\n",
      "------------------------------------------\n",
      "Saving video to /repos/vids/rl-video-step-24000-to-step-24200.mp4\n",
      "Moviepy - Building video /repos/vids/rl-video-step-24000-to-step-24200.mp4.\n",
      "Moviepy - Writing video /repos/vids/rl-video-step-24000-to-step-24200.mp4\n",
      "\n"
     ]
    },
    {
     "name": "stderr",
     "output_type": "stream",
     "text": [
      "                                                                                                                                                \r"
     ]
    },
    {
     "name": "stdout",
     "output_type": "stream",
     "text": [
      "Moviepy - Done !\n",
      "Moviepy - video ready /repos/vids/rl-video-step-24000-to-step-24200.mp4\n",
      "-----------------------------------------\n",
      "| rollout/                |             |\n",
      "|    ep_len_mean          | 185         |\n",
      "|    ep_rew_mean          | 185         |\n",
      "| time/                   |             |\n",
      "|    fps                  | 941         |\n",
      "|    iterations           | 12          |\n",
      "|    time_elapsed         | 26          |\n",
      "|    total_timesteps      | 24576       |\n",
      "| train/                  |             |\n",
      "|    approx_kl            | 0.009151913 |\n",
      "|    clip_fraction        | 0.113       |\n",
      "|    clip_range           | 0.2         |\n",
      "|    entropy_loss         | -0.556      |\n",
      "|    explained_variance   | 0.9727179   |\n",
      "|    learning_rate        | 0.0003      |\n",
      "|    loss                 | 0.306       |\n",
      "|    n_updates            | 110         |\n",
      "|    policy_gradient_loss | -0.018      |\n",
      "|    value_loss           | 7.26        |\n",
      "-----------------------------------------\n",
      "Saving video to /repos/vids/rl-video-step-26000-to-step-26200.mp4\n",
      "Moviepy - Building video /repos/vids/rl-video-step-26000-to-step-26200.mp4.\n",
      "Moviepy - Writing video /repos/vids/rl-video-step-26000-to-step-26200.mp4\n",
      "\n"
     ]
    },
    {
     "name": "stderr",
     "output_type": "stream",
     "text": [
      "                                                                                                                                                \r"
     ]
    },
    {
     "name": "stdout",
     "output_type": "stream",
     "text": [
      "Moviepy - Done !\n",
      "Moviepy - video ready /repos/vids/rl-video-step-26000-to-step-26200.mp4\n",
      "-----------------------------------------\n",
      "| rollout/                |             |\n",
      "|    ep_len_mean          | 204         |\n",
      "|    ep_rew_mean          | 204         |\n",
      "| time/                   |             |\n",
      "|    fps                  | 940         |\n",
      "|    iterations           | 13          |\n",
      "|    time_elapsed         | 28          |\n",
      "|    total_timesteps      | 26624       |\n",
      "| train/                  |             |\n",
      "|    approx_kl            | 0.004302252 |\n",
      "|    clip_fraction        | 0.0179      |\n",
      "|    clip_range           | 0.2         |\n",
      "|    entropy_loss         | -0.548      |\n",
      "|    explained_variance   | 0.028408527 |\n",
      "|    learning_rate        | 0.0003      |\n",
      "|    loss                 | 0.319       |\n",
      "|    n_updates            | 120         |\n",
      "|    policy_gradient_loss | -0.000892   |\n",
      "|    value_loss           | 4.15        |\n",
      "-----------------------------------------\n"
     ]
    },
    {
     "data": {
      "text/plain": [
       "<stable_baselines3.ppo.ppo.PPO at 0x7976c2afe050>"
      ]
     },
     "execution_count": 7,
     "metadata": {},
     "output_type": "execute_result"
    }
   ],
   "source": [
    "import gymnasium as gym\n",
    "from stable_baselines3 import PPO\n",
    "from stable_baselines3.common.monitor import Monitor\n",
    "from stable_baselines3.common.vec_env import DummyVecEnv, VecVideoRecorder\n",
    "\n",
    "\n",
    "config = {\n",
    "    \"policy_type\": \"MlpPolicy\",\n",
    "    \"total_timesteps\": 25000,\n",
    "    \"env_name\": \"CartPole-v1\",\n",
    "}\n",
    "\n",
    "def make_env():\n",
    "    env = gym.make(config[\"env_name\"], render_mode=\"rgb_array\")\n",
    "    env = Monitor(env)  # record stats such as returns\n",
    "    return env\n",
    "\n",
    "env = DummyVecEnv([make_env])\n",
    "env = VecVideoRecorder(\n",
    "    env,\n",
    "    f\"vids\",\n",
    "    record_video_trigger=lambda x: x % 2000 == 0,\n",
    "    video_length=200,\n",
    ")\n",
    "model = PPO(config[\"policy_type\"], env, verbose=1, tensorboard_log=f\"runs\")\n",
    "model.learn(\n",
    "    total_timesteps=config[\"total_timesteps\"],\n",
    ")"
   ]
  },
  {
   "cell_type": "code",
   "execution_count": 11,
   "id": "559d5e2b-9f05-4b95-9c52-ecc81ff58342",
   "metadata": {},
   "outputs": [
    {
     "data": {
      "text/html": [
       "<video src=\"./vids/rl-video-step-26000-to-step-26200.mp4\" controls  >\n",
       "      Your browser does not support the <code>video</code> element.\n",
       "    </video>"
      ],
      "text/plain": [
       "<IPython.core.display.Video object>"
      ]
     },
     "execution_count": 11,
     "metadata": {},
     "output_type": "execute_result"
    }
   ],
   "source": [
    "from IPython.display import Video\n",
    "\n",
    "Video(\"./vids/rl-video-step-26000-to-step-26200.mp4\")"
   ]
  },
  {
   "cell_type": "code",
   "execution_count": null,
   "id": "4f188409-bc49-4321-91c5-5f565038db5d",
   "metadata": {},
   "outputs": [],
   "source": []
  }
 ],
 "metadata": {
  "kernelspec": {
   "display_name": "Python 3 (ipykernel)",
   "language": "python",
   "name": "python3"
  },
  "language_info": {
   "codemirror_mode": {
    "name": "ipython",
    "version": 3
   },
   "file_extension": ".py",
   "mimetype": "text/x-python",
   "name": "python",
   "nbconvert_exporter": "python",
   "pygments_lexer": "ipython3",
   "version": "3.10.12"
  }
 },
 "nbformat": 4,
 "nbformat_minor": 5
}
