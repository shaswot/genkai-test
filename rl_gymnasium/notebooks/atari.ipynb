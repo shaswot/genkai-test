{
 "cells": [
  {
   "cell_type": "code",
   "execution_count": 3,
   "id": "c2828b5a-c005-446d-b5aa-67b52557497b",
   "metadata": {},
   "outputs": [
    {
     "name": "stderr",
     "output_type": "stream",
     "text": [
      "/usr/local/lib/python3.10/dist-packages/gymnasium/wrappers/record_video.py:94: UserWarning: \u001b[33mWARN: Overwriting existing videos at /repos/tmpvids folder (try specifying a different `video_folder` for the `RecordVideo` wrapper if this is not desired)\u001b[0m\n",
      "  logger.warn(\n",
      "/usr/local/lib/python3.10/dist-packages/gymnasium/utils/passive_env_checker.py:335: UserWarning: \u001b[33mWARN: No render fps was declared in the environment (env.metadata['render_fps'] is None or not defined), rendering may occur at inconsistent fps.\u001b[0m\n",
      "  logger.warn(\n"
     ]
    },
    {
     "name": "stdout",
     "output_type": "stream",
     "text": [
      "Moviepy - Building video /repos/tmpvids/test-atari-video-episode-0.mp4.\n",
      "Moviepy - Writing video /repos/tmpvids/test-atari-video-episode-0.mp4\n",
      "\n"
     ]
    },
    {
     "name": "stderr",
     "output_type": "stream",
     "text": [
      "                                                                                                                                                \r"
     ]
    },
    {
     "name": "stdout",
     "output_type": "stream",
     "text": [
      "Moviepy - Done !\n",
      "Moviepy - video ready /repos/tmpvids/test-atari-video-episode-0.mp4\n",
      "Moviepy - Building video /repos/tmpvids/test-atari-video-episode-0.mp4.\n",
      "Moviepy - Writing video /repos/tmpvids/test-atari-video-episode-0.mp4\n",
      "\n"
     ]
    },
    {
     "name": "stderr",
     "output_type": "stream",
     "text": [
      "                                                                                                                                                "
     ]
    },
    {
     "name": "stdout",
     "output_type": "stream",
     "text": [
      "Moviepy - Done !\n",
      "Moviepy - video ready /repos/tmpvids/test-atari-video-episode-0.mp4\n"
     ]
    },
    {
     "name": "stderr",
     "output_type": "stream",
     "text": [
      "\r"
     ]
    }
   ],
   "source": [
    "# https://stackoverflow.com/questions/77042526/how-to-record-and-save-video-of-gym-environment\n",
    "import gymnasium as gym\n",
    "\n",
    "###\n",
    "# create a temporary variable with our env, which will use rgb_array as render mode. This mode is supported by the RecordVideo-Wrapper\n",
    "tmp_env = gym.make(\"ALE/Pong-v5\", render_mode=\"rgb_array\")\n",
    "\n",
    "# wrap the env in the record video\n",
    "env = gym.wrappers.RecordVideo(env=tmp_env, \n",
    "                               video_folder=\"./tmpvids\", \n",
    "                               name_prefix=\"test-atari-video\",\n",
    "                               episode_trigger=lambda x: x == 0)\n",
    "                               # episode_trigger=lambda x: x % 2 == 0)\n",
    "\n",
    "# env reset for a fresh start\n",
    "observation, info = env.reset()\n",
    "\n",
    "###\n",
    "# Start the recorder\n",
    "env.start_video_recorder()\n",
    "\n",
    "\n",
    "# AI logic\n",
    "for _ in range(100):\n",
    "    action = env.action_space.sample()  # agent policy that uses the observation and info\n",
    "    observation, reward, terminated, truncated, info = env.step(action)\n",
    "    env.render()\n",
    "\n",
    "    if terminated or truncated:\n",
    "        observation, info = env.reset()\n",
    "\n",
    "####\n",
    "# Don't forget to close the video recorder before the env!\n",
    "env.close_video_recorder()\n",
    "\n",
    "# Close the environment\n",
    "env.close()"
   ]
  },
  {
   "cell_type": "code",
   "execution_count": 4,
   "id": "c4b11e42-2fa3-420b-925c-e75c18135ca1",
   "metadata": {},
   "outputs": [
    {
     "data": {
      "text/html": [
       "<video src=\"./tmpvids/test-atari-video-episode-0.mp4\" controls  >\n",
       "      Your browser does not support the <code>video</code> element.\n",
       "    </video>"
      ],
      "text/plain": [
       "<IPython.core.display.Video object>"
      ]
     },
     "execution_count": 4,
     "metadata": {},
     "output_type": "execute_result"
    }
   ],
   "source": [
    "from IPython.display import Video\n",
    "\n",
    "Video(\"./tmpvids/test-atari-video-episode-0.mp4\")"
   ]
  },
  {
   "cell_type": "code",
   "execution_count": null,
   "id": "fc9bb2e3-4253-4666-b1eb-12e0d45cfeb3",
   "metadata": {},
   "outputs": [],
   "source": []
  }
 ],
 "metadata": {
  "kernelspec": {
   "display_name": "Python 3 (ipykernel)",
   "language": "python",
   "name": "python3"
  },
  "language_info": {
   "codemirror_mode": {
    "name": "ipython",
    "version": 3
   },
   "file_extension": ".py",
   "mimetype": "text/x-python",
   "name": "python",
   "nbconvert_exporter": "python",
   "pygments_lexer": "ipython3",
   "version": "3.10.12"
  }
 },
 "nbformat": 4,
 "nbformat_minor": 5
}
